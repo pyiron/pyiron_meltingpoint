{
 "cells": [
  {
   "cell_type": "code",
   "execution_count": 1,
   "metadata": {
    "ExecuteTime": {
     "end_time": "2019-09-26T06:39:45.474473Z",
     "start_time": "2019-09-26T06:39:42.982516Z"
    },
    "execution": {
     "iopub.execute_input": "2020-12-04T02:55:40.385757Z",
     "iopub.status.busy": "2020-12-04T02:55:40.384754Z",
     "iopub.status.idle": "2020-12-04T02:55:40.799452Z",
     "shell.execute_reply": "2020-12-04T02:55:40.798832Z"
    },
    "papermill": {
     "duration": 0.433922,
     "end_time": "2020-12-04T02:55:40.799665",
     "exception": false,
     "start_time": "2020-12-04T02:55:40.365743",
     "status": "completed"
    },
    "tags": []
   },
   "outputs": [],
   "source": [
    "%matplotlib inline \n",
    "import json\n",
    "import numpy as np\n",
    "import os\n",
    "import pylab as plt"
   ]
  },
  {
   "cell_type": "code",
   "execution_count": 2,
   "metadata": {
    "execution": {
     "iopub.execute_input": "2020-12-04T02:55:40.821222Z",
     "iopub.status.busy": "2020-12-04T02:55:40.820625Z",
     "iopub.status.idle": "2020-12-04T02:55:40.822959Z",
     "shell.execute_reply": "2020-12-04T02:55:40.823426Z"
    },
    "papermill": {
     "duration": 0.01629,
     "end_time": "2020-12-04T02:55:40.823571",
     "exception": false,
     "start_time": "2020-12-04T02:55:40.807281",
     "status": "completed"
    },
    "tags": []
   },
   "outputs": [],
   "source": [
    "import matplotlib as mpl\n",
    "mpl.rc('font', family='Times New Roman')\n",
    "plt.rcParams[\"mathtext.fontset\"] = \"stix\""
   ]
  },
  {
   "cell_type": "code",
   "execution_count": 3,
   "metadata": {
    "execution": {
     "iopub.execute_input": "2020-12-04T02:55:40.843883Z",
     "iopub.status.busy": "2020-12-04T02:55:40.843291Z",
     "iopub.status.idle": "2020-12-04T02:55:40.846001Z",
     "shell.execute_reply": "2020-12-04T02:55:40.846578Z"
    },
    "papermill": {
     "duration": 0.014466,
     "end_time": "2020-12-04T02:55:40.846721",
     "exception": false,
     "start_time": "2020-12-04T02:55:40.832255",
     "status": "completed"
    },
    "tags": [
     "parameters"
    ]
   },
   "outputs": [],
   "source": [
    "input_file = 'output.json'"
   ]
  },
  {
   "cell_type": "code",
   "execution_count": 4,
   "metadata": {
    "execution": {
     "iopub.execute_input": "2020-12-04T02:55:40.865134Z",
     "iopub.status.busy": "2020-12-04T02:55:40.864538Z",
     "iopub.status.idle": "2020-12-04T02:55:40.867123Z",
     "shell.execute_reply": "2020-12-04T02:55:40.867597Z"
    },
    "papermill": {
     "duration": 0.014196,
     "end_time": "2020-12-04T02:55:40.867741",
     "exception": false,
     "start_time": "2020-12-04T02:55:40.853545",
     "status": "completed"
    },
    "tags": [
     "injected-parameters"
    ]
   },
   "outputs": [],
   "source": [
    "# Parameters\n",
    "input_file = \"output.json\"\n"
   ]
  },
  {
   "cell_type": "code",
   "execution_count": 5,
   "metadata": {
    "execution": {
     "iopub.execute_input": "2020-12-04T02:55:40.887857Z",
     "iopub.status.busy": "2020-12-04T02:55:40.887166Z",
     "iopub.status.idle": "2020-12-04T02:55:40.890584Z",
     "shell.execute_reply": "2020-12-04T02:55:40.889848Z"
    },
    "papermill": {
     "duration": 0.01651,
     "end_time": "2020-12-04T02:55:40.890726",
     "exception": false,
     "start_time": "2020-12-04T02:55:40.874216",
     "status": "completed"
    },
    "tags": []
   },
   "outputs": [],
   "source": [
    "# Values from a previous calculation can be inserted here to reproduce the results \n",
    "step_dict = {}\n",
    "if os.path.exists(input_file):\n",
    "    with open(input_file, 'r') as f:\n",
    "        step_dict_str = json.load(f)\n",
    "    for k,v in step_dict_str.items():\n",
    "        step_dict[int(k)] = v"
   ]
  },
  {
   "cell_type": "code",
   "execution_count": 6,
   "metadata": {
    "execution": {
     "iopub.execute_input": "2020-12-04T02:55:40.909925Z",
     "iopub.status.busy": "2020-12-04T02:55:40.909313Z",
     "iopub.status.idle": "2020-12-04T02:55:40.912004Z",
     "shell.execute_reply": "2020-12-04T02:55:40.912530Z"
    },
    "papermill": {
     "duration": 0.014469,
     "end_time": "2020-12-04T02:55:40.912695",
     "exception": false,
     "start_time": "2020-12-04T02:55:40.898226",
     "status": "completed"
    },
    "tags": []
   },
   "outputs": [],
   "source": [
    "ind, temp_lst = [], []\n",
    "for k,v in step_dict.items():\n",
    "    ind.append(k)\n",
    "    temp_lst.append(v['temperature_next'])"
   ]
  },
  {
   "cell_type": "code",
   "execution_count": 7,
   "metadata": {
    "execution": {
     "iopub.execute_input": "2020-12-04T02:55:40.931822Z",
     "iopub.status.busy": "2020-12-04T02:55:40.931208Z",
     "iopub.status.idle": "2020-12-04T02:55:40.933786Z",
     "shell.execute_reply": "2020-12-04T02:55:40.934325Z"
    },
    "papermill": {
     "duration": 0.014061,
     "end_time": "2020-12-04T02:55:40.934490",
     "exception": false,
     "start_time": "2020-12-04T02:55:40.920429",
     "status": "completed"
    },
    "tags": []
   },
   "outputs": [],
   "source": [
    "temp_array = np.array(temp_lst)[np.array(ind)]"
   ]
  },
  {
   "cell_type": "code",
   "execution_count": 8,
   "metadata": {
    "execution": {
     "iopub.execute_input": "2020-12-04T02:55:40.986818Z",
     "iopub.status.busy": "2020-12-04T02:55:40.985847Z",
     "iopub.status.idle": "2020-12-04T02:55:41.423282Z",
     "shell.execute_reply": "2020-12-04T02:55:41.422768Z"
    },
    "papermill": {
     "duration": 0.48147,
     "end_time": "2020-12-04T02:55:41.423428",
     "exception": false,
     "start_time": "2020-12-04T02:55:40.941958",
     "status": "completed"
    },
    "tags": []
   },
   "outputs": [
    {
     "data": {
      "text/plain": [
       "Text(0, 0.5, 'Temperature (K)')"
      ]
     },
     "execution_count": 8,
     "metadata": {},
     "output_type": "execute_result"
    },
    {
     "data": {
      "image/png": "[encoded data removed]",
      "text/plain": [
       "<Figure size 432x288 with 1 Axes>"
      ]
     },
     "metadata": {
      "needs_background": "light"
     },
     "output_type": "display_data"
    }
   ],
   "source": [
    "# plot the convergence of loop calculations\n",
    "plt.plot(np.arange(1, len(temp_array)), temp_array[0:-1], 'ro-', label=r\"$T^e$\")\n",
    "plt.plot(np.arange(1, len(temp_array)), temp_array[1:], 'bo-', label=r\"$T^p$\")\n",
    "plt.legend(fontsize=14)\n",
    "plt.tick_params(axis='both', labelsize=14)\n",
    "plt.xlabel('Number of loops', fontsize=14)\n",
    "plt.ylabel('Temperature (K)', fontsize=14)\n"
   ]
  }
 ],
 "metadata": {
  "celltoolbar": "Tags",
  "kernelspec": {
   "display_name": "Python 3",
   "language": "python",
   "name": "python3"
  },
  "language_info": {
   "codemirror_mode": {
    "name": "ipython",
    "version": 3
   },
   "file_extension": ".py",
   "mimetype": "text/x-python",
   "name": "python",
   "nbconvert_exporter": "python",
   "pygments_lexer": "ipython3",
   "version": "3.9.0"
  },
  "papermill": {
   "default_parameters": {},
   "duration": 3.261875,
   "end_time": "2020-12-04T02:55:42.602348",
   "environment_variables": {},
   "exception": null,
   "input_path": "./scripts/plot.ipynb",
   "output_path": "plot.nbconvert.ipynb",
   "parameters": {
    "input_file": "output.json"
   },
   "start_time": "2020-12-04T02:55:39.340473",
   "version": "2.2.2"
  },
  "toc": {
   "base_numbering": 1,
   "nav_menu": {
    "height": "120px",
    "width": "252px"
   },
   "number_sections": true,
   "sideBar": true,
   "skip_h1_title": false,
   "title_cell": "Table of Contents",
   "title_sidebar": "Contents",
   "toc_cell": false,
   "toc_position": {
    "height": "calc(100% - 180px)",
    "left": "10px",
    "top": "150px",
    "width": "166.796875px"
   },
   "toc_section_display": "block",
   "toc_window_display": false
  }
 },
 "nbformat": 4,
 "nbformat_minor": 2
}