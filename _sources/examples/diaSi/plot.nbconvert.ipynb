{
 "cells": [
  {
   "cell_type": "code",
   "execution_count": 1,
   "metadata": {
    "ExecuteTime": {
     "end_time": "2019-09-26T06:39:45.474473Z",
     "start_time": "2019-09-26T06:39:42.982516Z"
    },
    "execution": {
     "iopub.execute_input": "2020-12-01T14:16:11.869355Z",
     "iopub.status.busy": "2020-12-01T14:16:11.868737Z",
     "iopub.status.idle": "2020-12-01T14:16:12.319746Z",
     "shell.execute_reply": "2020-12-01T14:16:12.318764Z"
    },
    "papermill": {
     "duration": 0.470242,
     "end_time": "2020-12-01T14:16:12.320070",
     "exception": false,
     "start_time": "2020-12-01T14:16:11.849828",
     "status": "completed"
    },
    "tags": []
   },
   "outputs": [],
   "source": [
    "%matplotlib inline \n",
    "import json\n",
    "import numpy as np\n",
    "import os\n",
    "import pylab as plt"
   ]
  },
  {
   "cell_type": "code",
   "execution_count": 2,
   "metadata": {
    "execution": {
     "iopub.execute_input": "2020-12-01T14:16:12.343593Z",
     "iopub.status.busy": "2020-12-01T14:16:12.342758Z",
     "iopub.status.idle": "2020-12-01T14:16:12.345380Z",
     "shell.execute_reply": "2020-12-01T14:16:12.345958Z"
    },
    "papermill": {
     "duration": 0.015087,
     "end_time": "2020-12-01T14:16:12.346183",
     "exception": false,
     "start_time": "2020-12-01T14:16:12.331096",
     "status": "completed"
    },
    "tags": []
   },
   "outputs": [],
   "source": [
    "import matplotlib as mpl\n",
    "mpl.rc('font', family='Times New Roman')\n",
    "plt.rcParams[\"mathtext.fontset\"] = \"stix\""
   ]
  },
  {
   "cell_type": "code",
   "execution_count": 3,
   "metadata": {
    "execution": {
     "iopub.execute_input": "2020-12-01T14:16:12.366775Z",
     "iopub.status.busy": "2020-12-01T14:16:12.365760Z",
     "iopub.status.idle": "2020-12-01T14:16:12.369011Z",
     "shell.execute_reply": "2020-12-01T14:16:12.369754Z"
    },
    "papermill": {
     "duration": 0.015105,
     "end_time": "2020-12-01T14:16:12.369982",
     "exception": false,
     "start_time": "2020-12-01T14:16:12.354877",
     "status": "completed"
    },
    "tags": [
     "parameters"
    ]
   },
   "outputs": [],
   "source": [
    "input_file = 'output.json'"
   ]
  },
  {
   "cell_type": "code",
   "execution_count": 4,
   "metadata": {
    "execution": {
     "iopub.execute_input": "2020-12-01T14:16:12.394024Z",
     "iopub.status.busy": "2020-12-01T14:16:12.393405Z",
     "iopub.status.idle": "2020-12-01T14:16:12.396212Z",
     "shell.execute_reply": "2020-12-01T14:16:12.396701Z"
    },
    "papermill": {
     "duration": 0.015866,
     "end_time": "2020-12-01T14:16:12.396849",
     "exception": false,
     "start_time": "2020-12-01T14:16:12.380983",
     "status": "completed"
    },
    "tags": [
     "injected-parameters"
    ]
   },
   "outputs": [],
   "source": [
    "# Parameters\n",
    "input_file = \"output.json\"\n"
   ]
  },
  {
   "cell_type": "code",
   "execution_count": 5,
   "metadata": {
    "execution": {
     "iopub.execute_input": "2020-12-01T14:16:12.417452Z",
     "iopub.status.busy": "2020-12-01T14:16:12.416831Z",
     "iopub.status.idle": "2020-12-01T14:16:12.419191Z",
     "shell.execute_reply": "2020-12-01T14:16:12.419676Z"
    },
    "papermill": {
     "duration": 0.015722,
     "end_time": "2020-12-01T14:16:12.419824",
     "exception": false,
     "start_time": "2020-12-01T14:16:12.404102",
     "status": "completed"
    },
    "tags": []
   },
   "outputs": [],
   "source": [
    "# Values from a previous calculation can be inserted here to reproduce the results \n",
    "step_dict = {}\n",
    "if os.path.exists(input_file):\n",
    "    with open(input_file, 'r') as f:\n",
    "        step_dict_str = json.load(f)\n",
    "    for k,v in step_dict_str.items():\n",
    "        step_dict[int(k)] = v"
   ]
  },
  {
   "cell_type": "code",
   "execution_count": 6,
   "metadata": {
    "execution": {
     "iopub.execute_input": "2020-12-01T14:16:12.440513Z",
     "iopub.status.busy": "2020-12-01T14:16:12.439897Z",
     "iopub.status.idle": "2020-12-01T14:16:12.442540Z",
     "shell.execute_reply": "2020-12-01T14:16:12.443025Z"
    },
    "papermill": {
     "duration": 0.015836,
     "end_time": "2020-12-01T14:16:12.443174",
     "exception": false,
     "start_time": "2020-12-01T14:16:12.427338",
     "status": "completed"
    },
    "tags": []
   },
   "outputs": [],
   "source": [
    "ind, temp_lst = [], []\n",
    "for k,v in step_dict.items():\n",
    "    ind.append(k)\n",
    "    temp_lst.append(v['temperature_next'])"
   ]
  },
  {
   "cell_type": "code",
   "execution_count": 7,
   "metadata": {
    "execution": {
     "iopub.execute_input": "2020-12-01T14:16:12.463291Z",
     "iopub.status.busy": "2020-12-01T14:16:12.462676Z",
     "iopub.status.idle": "2020-12-01T14:16:12.465614Z",
     "shell.execute_reply": "2020-12-01T14:16:12.466103Z"
    },
    "papermill": {
     "duration": 0.015583,
     "end_time": "2020-12-01T14:16:12.466262",
     "exception": false,
     "start_time": "2020-12-01T14:16:12.450679",
     "status": "completed"
    },
    "tags": []
   },
   "outputs": [],
   "source": [
    "temp_array = np.array(temp_lst)[np.array(ind)]"
   ]
  },
  {
   "cell_type": "code",
   "execution_count": 8,
   "metadata": {
    "execution": {
     "iopub.execute_input": "2020-12-01T14:16:12.533950Z",
     "iopub.status.busy": "2020-12-01T14:16:12.533306Z",
     "iopub.status.idle": "2020-12-01T14:16:12.931361Z",
     "shell.execute_reply": "2020-12-01T14:16:12.931854Z"
    },
    "papermill": {
     "duration": 0.45857,
     "end_time": "2020-12-01T14:16:12.932029",
     "exception": false,
     "start_time": "2020-12-01T14:16:12.473459",
     "status": "completed"
    },
    "tags": []
   },
   "outputs": [
    {
     "data": {
      "text/plain": [
       "Text(0, 0.5, 'Temperature (K)')"
      ]
     },
     "execution_count": 8,
     "metadata": {},
     "output_type": "execute_result"
    },
    {
     "data": {
      "image/png": "[encoded data removed]",
      "text/plain": [
       "<Figure size 432x288 with 1 Axes>"
      ]
     },
     "metadata": {
      "needs_background": "light"
     },
     "output_type": "display_data"
    }
   ],
   "source": [
    "# plot the convergence of loop calculations\n",
    "plt.plot(np.arange(1, len(temp_array)), temp_array[0:-1], 'ro-', label=r\"$T^e$\")\n",
    "plt.plot(np.arange(1, len(temp_array)), temp_array[1:], 'bo-', label=r\"$T^p$\")\n",
    "plt.legend(fontsize=14)\n",
    "plt.tick_params(axis='both', labelsize=14)\n",
    "plt.xlabel('Number of loops', fontsize=14)\n",
    "plt.ylabel('Temperature (K)', fontsize=14)\n"
   ]
  }
 ],
 "metadata": {
  "celltoolbar": "Tags",
  "kernelspec": {
   "display_name": "Python 3",
   "language": "python",
   "name": "python3"
  },
  "language_info": {
   "codemirror_mode": {
    "name": "ipython",
    "version": 3
   },
   "file_extension": ".py",
   "mimetype": "text/x-python",
   "name": "python",
   "nbconvert_exporter": "python",
   "pygments_lexer": "ipython3",
   "version": "3.9.0"
  },
  "papermill": {
   "default_parameters": {},
   "duration": 3.260339,
   "end_time": "2020-12-01T14:16:14.086934",
   "environment_variables": {},
   "exception": null,
   "input_path": "./scripts/plot.ipynb",
   "output_path": "plot.nbconvert.ipynb",
   "parameters": {
    "input_file": "output.json"
   },
   "start_time": "2020-12-01T14:16:10.826595",
   "version": "2.2.2"
  },
  "toc": {
   "base_numbering": 1,
   "nav_menu": {
    "height": "120px",
    "width": "252px"
   },
   "number_sections": true,
   "sideBar": true,
   "skip_h1_title": false,
   "title_cell": "Table of Contents",
   "title_sidebar": "Contents",
   "toc_cell": false,
   "toc_position": {
    "height": "calc(100% - 180px)",
    "left": "10px",
    "top": "150px",
    "width": "166.796875px"
   },
   "toc_section_display": "block",
   "toc_window_display": false
  }
 },
 "nbformat": 4,
 "nbformat_minor": 2
}