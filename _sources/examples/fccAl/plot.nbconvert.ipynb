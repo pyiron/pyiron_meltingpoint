{
 "cells": [
  {
   "cell_type": "code",
   "execution_count": 1,
   "metadata": {
    "ExecuteTime": {
     "end_time": "2019-09-26T06:39:45.474473Z",
     "start_time": "2019-09-26T06:39:42.982516Z"
    },
    "execution": {
     "iopub.execute_input": "2020-12-03T08:29:15.358422Z",
     "iopub.status.busy": "2020-12-03T08:29:15.357795Z",
     "iopub.status.idle": "2020-12-03T08:29:16.818887Z",
     "shell.execute_reply": "2020-12-03T08:29:16.819390Z"
    },
    "papermill": {
     "duration": 1.473298,
     "end_time": "2020-12-03T08:29:16.819676",
     "exception": false,
     "start_time": "2020-12-03T08:29:15.346378",
     "status": "completed"
    },
    "tags": []
   },
   "outputs": [],
   "source": [
    "%matplotlib inline \n",
    "import json\n",
    "import numpy as np\n",
    "import os\n",
    "import pylab as plt"
   ]
  },
  {
   "cell_type": "code",
   "execution_count": 2,
   "metadata": {
    "execution": {
     "iopub.execute_input": "2020-12-03T08:29:16.836178Z",
     "iopub.status.busy": "2020-12-03T08:29:16.835454Z",
     "iopub.status.idle": "2020-12-03T08:29:16.837816Z",
     "shell.execute_reply": "2020-12-03T08:29:16.838409Z"
    },
    "papermill": {
     "duration": 0.01255,
     "end_time": "2020-12-03T08:29:16.838558",
     "exception": false,
     "start_time": "2020-12-03T08:29:16.826008",
     "status": "completed"
    },
    "tags": []
   },
   "outputs": [],
   "source": [
    "import matplotlib as mpl\n",
    "mpl.rc('font', family='Times New Roman')\n",
    "plt.rcParams[\"mathtext.fontset\"] = \"stix\""
   ]
  },
  {
   "cell_type": "code",
   "execution_count": 3,
   "metadata": {
    "execution": {
     "iopub.execute_input": "2020-12-03T08:29:16.855551Z",
     "iopub.status.busy": "2020-12-03T08:29:16.854834Z",
     "iopub.status.idle": "2020-12-03T08:29:16.857334Z",
     "shell.execute_reply": "2020-12-03T08:29:16.857822Z"
    },
    "papermill": {
     "duration": 0.012233,
     "end_time": "2020-12-03T08:29:16.857969",
     "exception": false,
     "start_time": "2020-12-03T08:29:16.845736",
     "status": "completed"
    },
    "tags": [
     "parameters"
    ]
   },
   "outputs": [],
   "source": [
    "input_file = 'output.json'"
   ]
  },
  {
   "cell_type": "code",
   "execution_count": 4,
   "metadata": {
    "execution": {
     "iopub.execute_input": "2020-12-03T08:29:16.873468Z",
     "iopub.status.busy": "2020-12-03T08:29:16.872751Z",
     "iopub.status.idle": "2020-12-03T08:29:16.875151Z",
     "shell.execute_reply": "2020-12-03T08:29:16.875717Z"
    },
    "papermill": {
     "duration": 0.011834,
     "end_time": "2020-12-03T08:29:16.875863",
     "exception": false,
     "start_time": "2020-12-03T08:29:16.864029",
     "status": "completed"
    },
    "tags": [
     "injected-parameters"
    ]
   },
   "outputs": [],
   "source": [
    "# Parameters\n",
    "input_file = \"output.json\"\n"
   ]
  },
  {
   "cell_type": "code",
   "execution_count": 5,
   "metadata": {
    "execution": {
     "iopub.execute_input": "2020-12-03T08:29:16.892428Z",
     "iopub.status.busy": "2020-12-03T08:29:16.891796Z",
     "iopub.status.idle": "2020-12-03T08:29:16.894545Z",
     "shell.execute_reply": "2020-12-03T08:29:16.895026Z"
    },
    "papermill": {
     "duration": 0.013268,
     "end_time": "2020-12-03T08:29:16.895173",
     "exception": false,
     "start_time": "2020-12-03T08:29:16.881905",
     "status": "completed"
    },
    "tags": []
   },
   "outputs": [],
   "source": [
    "# Values from a previous calculation can be inserted here to reproduce the results \n",
    "step_dict = {}\n",
    "if os.path.exists(input_file):\n",
    "    with open(input_file, 'r') as f:\n",
    "        step_dict_str = json.load(f)\n",
    "    for k,v in step_dict_str.items():\n",
    "        step_dict[int(k)] = v"
   ]
  },
  {
   "cell_type": "code",
   "execution_count": 6,
   "metadata": {
    "execution": {
     "iopub.execute_input": "2020-12-03T08:29:16.911633Z",
     "iopub.status.busy": "2020-12-03T08:29:16.910906Z",
     "iopub.status.idle": "2020-12-03T08:29:16.913368Z",
     "shell.execute_reply": "2020-12-03T08:29:16.913848Z"
    },
    "papermill": {
     "duration": 0.012766,
     "end_time": "2020-12-03T08:29:16.913993",
     "exception": false,
     "start_time": "2020-12-03T08:29:16.901227",
     "status": "completed"
    },
    "tags": []
   },
   "outputs": [],
   "source": [
    "ind, temp_lst = [], []\n",
    "for k,v in step_dict.items():\n",
    "    ind.append(k)\n",
    "    temp_lst.append(v['temperature_next'])"
   ]
  },
  {
   "cell_type": "code",
   "execution_count": 7,
   "metadata": {
    "execution": {
     "iopub.execute_input": "2020-12-03T08:29:16.930052Z",
     "iopub.status.busy": "2020-12-03T08:29:16.929335Z",
     "iopub.status.idle": "2020-12-03T08:29:16.931808Z",
     "shell.execute_reply": "2020-12-03T08:29:16.932287Z"
    },
    "papermill": {
     "duration": 0.012232,
     "end_time": "2020-12-03T08:29:16.932432",
     "exception": false,
     "start_time": "2020-12-03T08:29:16.920200",
     "status": "completed"
    },
    "tags": []
   },
   "outputs": [],
   "source": [
    "temp_array = np.array(temp_lst)[np.array(ind)]"
   ]
  },
  {
   "cell_type": "code",
   "execution_count": 8,
   "metadata": {
    "execution": {
     "iopub.execute_input": "2020-12-03T08:29:16.989609Z",
     "iopub.status.busy": "2020-12-03T08:29:16.979806Z",
     "iopub.status.idle": "2020-12-03T08:29:17.394415Z",
     "shell.execute_reply": "2020-12-03T08:29:17.394908Z"
    },
    "papermill": {
     "duration": 0.45637,
     "end_time": "2020-12-03T08:29:17.395075",
     "exception": false,
     "start_time": "2020-12-03T08:29:16.938705",
     "status": "completed"
    },
    "tags": []
   },
   "outputs": [
    {
     "data": {
      "text/plain": [
       "Text(0, 0.5, 'Temperature (K)')"
      ]
     },
     "execution_count": 8,
     "metadata": {},
     "output_type": "execute_result"
    },
    {
     "data": {
      "image/png": "[encoded data removed]",
      "text/plain": [
       "<Figure size 432x288 with 1 Axes>"
      ]
     },
     "metadata": {
      "needs_background": "light"
     },
     "output_type": "display_data"
    }
   ],
   "source": [
    "# plot the convergence of loop calculations\n",
    "plt.plot(np.arange(1, len(temp_array)), temp_array[0:-1], 'ro-', label=r\"$T^e$\")\n",
    "plt.plot(np.arange(1, len(temp_array)), temp_array[1:], 'bo-', label=r\"$T^p$\")\n",
    "plt.legend(fontsize=14)\n",
    "plt.tick_params(axis='both', labelsize=14)\n",
    "plt.xlabel('Number of loops', fontsize=14)\n",
    "plt.ylabel('Temperature (K)', fontsize=14)\n"
   ]
  }
 ],
 "metadata": {
  "celltoolbar": "Tags",
  "kernelspec": {
   "display_name": "Python 3",
   "language": "python",
   "name": "python3"
  },
  "language_info": {
   "codemirror_mode": {
    "name": "ipython",
    "version": 3
   },
   "file_extension": ".py",
   "mimetype": "text/x-python",
   "name": "python",
   "nbconvert_exporter": "python",
   "pygments_lexer": "ipython3",
   "version": "3.9.0"
  },
  "papermill": {
   "default_parameters": {},
   "duration": 4.912774,
   "end_time": "2020-12-03T08:29:18.549440",
   "environment_variables": {},
   "exception": null,
   "input_path": "./scripts/plot.ipynb",
   "output_path": "plot.nbconvert.ipynb",
   "parameters": {
    "input_file": "output.json"
   },
   "start_time": "2020-12-03T08:29:13.636666",
   "version": "2.2.2"
  },
  "toc": {
   "base_numbering": 1,
   "nav_menu": {
    "height": "120px",
    "width": "252px"
   },
   "number_sections": true,
   "sideBar": true,
   "skip_h1_title": false,
   "title_cell": "Table of Contents",
   "title_sidebar": "Contents",
   "toc_cell": false,
   "toc_position": {
    "height": "calc(100% - 180px)",
    "left": "10px",
    "top": "150px",
    "width": "166.796875px"
   },
   "toc_section_display": "block",
   "toc_window_display": false
  }
 },
 "nbformat": 4,
 "nbformat_minor": 2
}