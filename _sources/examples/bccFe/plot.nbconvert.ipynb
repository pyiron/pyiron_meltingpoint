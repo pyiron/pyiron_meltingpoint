{
 "cells": [
  {
   "cell_type": "code",
   "execution_count": 1,
   "metadata": {
    "ExecuteTime": {
     "end_time": "2019-09-26T06:39:45.474473Z",
     "start_time": "2019-09-26T06:39:42.982516Z"
    },
    "execution": {
     "iopub.execute_input": "2020-12-03T12:24:51.391546Z",
     "iopub.status.busy": "2020-12-03T12:24:51.390477Z",
     "iopub.status.idle": "2020-12-03T12:24:53.037544Z",
     "shell.execute_reply": "2020-12-03T12:24:53.038375Z"
    },
    "papermill": {
     "duration": 1.668252,
     "end_time": "2020-12-03T12:24:53.038754",
     "exception": false,
     "start_time": "2020-12-03T12:24:51.370502",
     "status": "completed"
    },
    "tags": []
   },
   "outputs": [],
   "source": [
    "%matplotlib inline \n",
    "import json\n",
    "import numpy as np\n",
    "import os\n",
    "import pylab as plt"
   ]
  },
  {
   "cell_type": "code",
   "execution_count": 2,
   "metadata": {
    "execution": {
     "iopub.execute_input": "2020-12-03T12:24:53.146244Z",
     "iopub.status.busy": "2020-12-03T12:24:53.145295Z",
     "iopub.status.idle": "2020-12-03T12:24:53.148182Z",
     "shell.execute_reply": "2020-12-03T12:24:53.149014Z"
    },
    "papermill": {
     "duration": 0.098183,
     "end_time": "2020-12-03T12:24:53.149286",
     "exception": false,
     "start_time": "2020-12-03T12:24:53.051103",
     "status": "completed"
    },
    "tags": []
   },
   "outputs": [],
   "source": [
    "import matplotlib as mpl\n",
    "mpl.rc('font', family='Times New Roman')\n",
    "plt.rcParams[\"mathtext.fontset\"] = \"stix\""
   ]
  },
  {
   "cell_type": "code",
   "execution_count": 3,
   "metadata": {
    "execution": {
     "iopub.execute_input": "2020-12-03T12:24:53.182949Z",
     "iopub.status.busy": "2020-12-03T12:24:53.181947Z",
     "iopub.status.idle": "2020-12-03T12:24:53.184560Z",
     "shell.execute_reply": "2020-12-03T12:24:53.185393Z"
    },
    "papermill": {
     "duration": 0.019958,
     "end_time": "2020-12-03T12:24:53.185684",
     "exception": false,
     "start_time": "2020-12-03T12:24:53.165726",
     "status": "completed"
    },
    "tags": [
     "parameters"
    ]
   },
   "outputs": [],
   "source": [
    "input_file = 'output.json'"
   ]
  },
  {
   "cell_type": "code",
   "execution_count": 4,
   "metadata": {
    "execution": {
     "iopub.execute_input": "2020-12-03T12:24:53.213857Z",
     "iopub.status.busy": "2020-12-03T12:24:53.212809Z",
     "iopub.status.idle": "2020-12-03T12:24:53.215719Z",
     "shell.execute_reply": "2020-12-03T12:24:53.216494Z"
    },
    "papermill": {
     "duration": 0.019281,
     "end_time": "2020-12-03T12:24:53.216738",
     "exception": false,
     "start_time": "2020-12-03T12:24:53.197457",
     "status": "completed"
    },
    "tags": [
     "injected-parameters"
    ]
   },
   "outputs": [],
   "source": [
    "# Parameters\n",
    "input_file = \"output.json\"\n"
   ]
  },
  {
   "cell_type": "code",
   "execution_count": 5,
   "metadata": {
    "execution": {
     "iopub.execute_input": "2020-12-03T12:24:53.242986Z",
     "iopub.status.busy": "2020-12-03T12:24:53.241999Z",
     "iopub.status.idle": "2020-12-03T12:24:53.244744Z",
     "shell.execute_reply": "2020-12-03T12:24:53.244132Z"
    },
    "papermill": {
     "duration": 0.016615,
     "end_time": "2020-12-03T12:24:53.244888",
     "exception": false,
     "start_time": "2020-12-03T12:24:53.228273",
     "status": "completed"
    },
    "tags": []
   },
   "outputs": [],
   "source": [
    "# Values from a previous calculation can be inserted here to reproduce the results \n",
    "step_dict = {}\n",
    "if os.path.exists(input_file):\n",
    "    with open(input_file, 'r') as f:\n",
    "        step_dict_str = json.load(f)\n",
    "    for k,v in step_dict_str.items():\n",
    "        step_dict[int(k)] = v"
   ]
  },
  {
   "cell_type": "code",
   "execution_count": 6,
   "metadata": {
    "execution": {
     "iopub.execute_input": "2020-12-03T12:24:53.264135Z",
     "iopub.status.busy": "2020-12-03T12:24:53.263214Z",
     "iopub.status.idle": "2020-12-03T12:24:53.265950Z",
     "shell.execute_reply": "2020-12-03T12:24:53.265330Z"
    },
    "papermill": {
     "duration": 0.014843,
     "end_time": "2020-12-03T12:24:53.266094",
     "exception": false,
     "start_time": "2020-12-03T12:24:53.251251",
     "status": "completed"
    },
    "tags": []
   },
   "outputs": [],
   "source": [
    "ind, temp_lst = [], []\n",
    "for k,v in step_dict.items():\n",
    "    ind.append(k)\n",
    "    temp_lst.append(v['temperature_next'])"
   ]
  },
  {
   "cell_type": "code",
   "execution_count": 7,
   "metadata": {
    "execution": {
     "iopub.execute_input": "2020-12-03T12:24:53.284421Z",
     "iopub.status.busy": "2020-12-03T12:24:53.283779Z",
     "iopub.status.idle": "2020-12-03T12:24:53.286672Z",
     "shell.execute_reply": "2020-12-03T12:24:53.286059Z"
    },
    "papermill": {
     "duration": 0.014147,
     "end_time": "2020-12-03T12:24:53.286814",
     "exception": false,
     "start_time": "2020-12-03T12:24:53.272667",
     "status": "completed"
    },
    "tags": []
   },
   "outputs": [],
   "source": [
    "temp_array = np.array(temp_lst)[np.array(ind)]"
   ]
  },
  {
   "cell_type": "code",
   "execution_count": 8,
   "metadata": {
    "execution": {
     "iopub.execute_input": "2020-12-03T12:24:53.377923Z",
     "iopub.status.busy": "2020-12-03T12:24:53.376888Z",
     "iopub.status.idle": "2020-12-03T12:24:53.827618Z",
     "shell.execute_reply": "2020-12-03T12:24:53.828380Z"
    },
    "papermill": {
     "duration": 0.535412,
     "end_time": "2020-12-03T12:24:53.828655",
     "exception": false,
     "start_time": "2020-12-03T12:24:53.293243",
     "status": "completed"
    },
    "tags": []
   },
   "outputs": [
    {
     "data": {
      "text/plain": [
       "Text(0, 0.5, 'Temperature (K)')"
      ]
     },
     "execution_count": 8,
     "metadata": {},
     "output_type": "execute_result"
    },
    {
     "data": {
      "image/png": "[encoded data removed]",
      "text/plain": [
       "<Figure size 432x288 with 1 Axes>"
      ]
     },
     "metadata": {
      "needs_background": "light"
     },
     "output_type": "display_data"
    }
   ],
   "source": [
    "# plot the convergence of loop calculations\n",
    "plt.plot(np.arange(1, len(temp_array)), temp_array[0:-1], 'ro-', label=r\"$T^e$\")\n",
    "plt.plot(np.arange(1, len(temp_array)), temp_array[1:], 'bo-', label=r\"$T^p$\")\n",
    "plt.legend(fontsize=14)\n",
    "plt.tick_params(axis='both', labelsize=14)\n",
    "plt.xlabel('Number of loops', fontsize=14)\n",
    "plt.ylabel('Temperature (K)', fontsize=14)\n"
   ]
  }
 ],
 "metadata": {
  "celltoolbar": "Tags",
  "kernelspec": {
   "display_name": "Python 3",
   "language": "python",
   "name": "python3"
  },
  "language_info": {
   "codemirror_mode": {
    "name": "ipython",
    "version": 3
   },
   "file_extension": ".py",
   "mimetype": "text/x-python",
   "name": "python",
   "nbconvert_exporter": "python",
   "pygments_lexer": "ipython3",
   "version": "3.9.0"
  },
  "papermill": {
   "default_parameters": {},
   "duration": 5.65011,
   "end_time": "2020-12-03T12:24:54.252406",
   "environment_variables": {},
   "exception": null,
   "input_path": "./scripts/plot.ipynb",
   "output_path": "plot.nbconvert.ipynb",
   "parameters": {
    "input_file": "output.json"
   },
   "start_time": "2020-12-03T12:24:48.602296",
   "version": "2.2.2"
  },
  "toc": {
   "base_numbering": 1,
   "nav_menu": {
    "height": "120px",
    "width": "252px"
   },
   "number_sections": true,
   "sideBar": true,
   "skip_h1_title": false,
   "title_cell": "Table of Contents",
   "title_sidebar": "Contents",
   "toc_cell": false,
   "toc_position": {
    "height": "calc(100% - 180px)",
    "left": "10px",
    "top": "150px",
    "width": "166.796875px"
   },
   "toc_section_display": "block",
   "toc_window_display": false
  }
 },
 "nbformat": 4,
 "nbformat_minor": 2
}